{
  "nbformat": 4,
  "nbformat_minor": 0,
  "metadata": {
    "colab": {
      "provenance": [],
      "authorship_tag": "ABX9TyM8mqoxGmxdPX5COShIewBA",
      "include_colab_link": true
    },
    "kernelspec": {
      "name": "python3",
      "display_name": "Python 3"
    },
    "language_info": {
      "name": "python"
    }
  },
  "cells": [
    {
      "cell_type": "markdown",
      "metadata": {
        "id": "view-in-github",
        "colab_type": "text"
      },
      "source": [
        "<a href=\"https://colab.research.google.com/github/jacquesdeswart/set/blob/main/Untitled0.ipynb\" target=\"_parent\"><img src=\"https://colab.research.google.com/assets/colab-badge.svg\" alt=\"Open In Colab\"/></a>"
      ]
    },
    {
      "cell_type": "code",
      "execution_count": 1,
      "metadata": {
        "colab": {
          "base_uri": "https://localhost:8080/",
          "height": 688
        },
        "id": "sqWXT8O8jzvV",
        "outputId": "42b4fa51-7f10-422f-ce45-193445855360"
      },
      "outputs": [
        {
          "output_type": "stream",
          "name": "stdout",
          "text": [
            "the 12 cards on the table are  ['rr2o', 'gr1o', 'ro1s', 'po1o', 'pt2s', 'rt1s', 'rr3o', 'rt2s', 'pt1d', 'pr1o', 'rt3s', 'rr2s']\n",
            "the following triple is a set:  gr1o ro1s pt1d\n",
            "the following triple is a set:  ro1s rt3s rr2s\n",
            "the following triple is a set:  rt1s rt2s rt3s\n",
            "the 12 cards on the table are  ['gt3o', 'gr3s', 'gt3d', 'po3o', 'pt2o', 'pt3d', 'gr1s', 'rr2s', 'pr1s', 'gr3d', 'rt1d', 'pt3o']\n",
            "the following triple is a set:  gr3s rr2s pr1s\n",
            "the 12 cards on the table are  ['gt1s', 'gr1d', 'go2o', 'rr2o', 'gt3o', 'po1s', 'ro3d', 'rt3d', 'ro1o', 'rr1o', 'gt1d', 'go3o']\n",
            "the following triple is a set:  go2o po1s ro3d\n",
            "the following triple is a set:  po1s rr1o gt1d\n",
            "the 12 cards on the table are  ['pr3d', 'pt2s', 'pt1o', 'rr2s', 'ro2s', 'po1d', 'gt1s', 'gt1o', 'pr2s', 'rt3o', 'gr1o', 'pt2o']\n",
            "the following triple is a set:  pr3d rr2s gr1o\n",
            "the following triple is a set:  pr3d ro2s gt1o\n",
            "the following triple is a set:  gt1o rt3o pt2o\n",
            "occurrency of number of sets  [1, 2, 3] : [0.25, 0.25, 0.5]\n"
          ]
        },
        {
          "output_type": "display_data",
          "data": {
            "text/plain": [
              "<Figure size 640x480 with 1 Axes>"
            ],
            "image/png": "[encoded data removed]"
          },
          "metadata": {}
        }
      ],
      "source": [
        "import random\n",
        "import matplotlib.pyplot as plt\n",
        "\n",
        "colors = ['g', 'p', 'r']\n",
        "forms = ['r', 'o', 't']\n",
        "numbers = ['1', '2', '3']\n",
        "fillings = ['d', 'o', 's']\n",
        "\n",
        "cards = []\n",
        "for color in colors:\n",
        "    for form in forms:\n",
        "        for number in numbers:\n",
        "            for filling in fillings:\n",
        "                cards.append(color + form + number + filling)\n",
        "\n",
        "\n",
        "def assess(x, y, z, a):\n",
        "    if (x[a] == y[a] and x[a] == z[a]) or (x[a] != y[a] and x[a] != z[a] and y[a] != z[a]):\n",
        "        return 'same or different'\n",
        "    else:\n",
        "        return 'in between'\n",
        "\n",
        "\n",
        "def is_set(x, y, z):\n",
        "    if assess(x, y, z, 0) == 'same or different':\n",
        "        if assess(x, y, z, 1) == 'same or different':\n",
        "            if assess(x, y, z, 2) == 'same or different':\n",
        "                if assess(x, y, z, 3) == 'same or different':\n",
        "                    return 1\n",
        "                else:\n",
        "                    return 0\n",
        "            else:\n",
        "                return 0\n",
        "        else:\n",
        "            return 0\n",
        "    else:\n",
        "        return 0\n",
        "\n",
        "\n",
        "number_of_plays = 40\n",
        "number_of_sets_per_play = []\n",
        "for play in range(0, number_of_plays):\n",
        "    cards_on_table = random.sample(cards, 12)\n",
        "    print('the 12 cards on the table are ', cards_on_table)\n",
        "\n",
        "    triples = []\n",
        "    for x in cards_on_table:\n",
        "        for y in cards_on_table:\n",
        "            if cards_on_table.index(y) > cards_on_table.index(x):\n",
        "                for z in cards_on_table:\n",
        "                    if cards_on_table.index(z) > cards_on_table.index(y):\n",
        "                        triples.append([x, y, z])\n",
        "\n",
        "    number_of_sets: int = 0\n",
        "    for triple in triples:\n",
        "        if is_set(triple[0], triple[1], triple[2]) == 1:\n",
        "            print('the following triple is a set: ', triple[0], triple[1], triple[2])\n",
        "            number_of_sets += 1\n",
        "\n",
        "    number_of_sets_per_play.append(number_of_sets)\n",
        "\n",
        "possible_number_of_sets = list(set(number_of_sets_per_play))\n",
        "possible_number_of_sets.sort()\n",
        "frequency = []\n",
        "for i in possible_number_of_sets:\n",
        "    frequency.append(number_of_sets_per_play.count(i))\n",
        "relative_frequency = []\n",
        "for j in frequency:\n",
        "    relative_frequency.append(j/number_of_plays)\n",
        "print('occurrency of number of sets ', possible_number_of_sets, ':', relative_frequency)\n",
        "plt.bar(possible_number_of_sets,relative_frequency)\n",
        "plt.show()"
      ]
    }
  ]
}